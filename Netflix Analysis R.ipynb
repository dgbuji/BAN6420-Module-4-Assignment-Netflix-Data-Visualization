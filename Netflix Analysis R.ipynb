{
 "cells": [
  {
   "cell_type": "code",
   "execution_count": 1,
   "id": "8f918c7d-2014-40be-b1fc-b0c9bcdf9d45",
   "metadata": {},
   "outputs": [
    {
     "name": "stderr",
     "output_type": "stream",
     "text": [
      "Installing package into 'C:/Users/HP/AppData/Local/R/win-library/4.5'\n",
      "(as 'lib' is unspecified)\n",
      "\n",
      "also installing the dependencies 'farver', 'labeling', 'RColorBrewer', 'viridisLite', 'fansi', 'pkgconfig', 'gtable', 'isoband', 'scales', 'tibble'\n",
      "\n",
      "\n"
     ]
    },
    {
     "name": "stdout",
     "output_type": "stream",
     "text": [
      "package 'farver' successfully unpacked and MD5 sums checked\n",
      "package 'labeling' successfully unpacked and MD5 sums checked\n",
      "package 'RColorBrewer' successfully unpacked and MD5 sums checked\n",
      "package 'viridisLite' successfully unpacked and MD5 sums checked\n",
      "package 'fansi' successfully unpacked and MD5 sums checked\n",
      "package 'pkgconfig' successfully unpacked and MD5 sums checked\n",
      "package 'gtable' successfully unpacked and MD5 sums checked\n",
      "package 'isoband' successfully unpacked and MD5 sums checked\n",
      "package 'scales' successfully unpacked and MD5 sums checked\n",
      "package 'tibble' successfully unpacked and MD5 sums checked\n",
      "package 'ggplot2' successfully unpacked and MD5 sums checked\n",
      "\n",
      "The downloaded binary packages are in\n",
      "\tC:\\Users\\HP\\AppData\\Local\\Temp\\Rtmpg9ohc1\\downloaded_packages\n"
     ]
    },
    {
     "name": "stderr",
     "output_type": "stream",
     "text": [
      "Installing package into 'C:/Users/HP/AppData/Local/R/win-library/4.5'\n",
      "(as 'lib' is unspecified)\n",
      "\n",
      "also installing the dependencies 'bit', 'prettyunits', 'bit64', 'tidyselect', 'progress', 'clipr', 'hms', 'vroom', 'tzdb'\n",
      "\n",
      "\n"
     ]
    },
    {
     "name": "stdout",
     "output_type": "stream",
     "text": [
      "package 'bit' successfully unpacked and MD5 sums checked\n",
      "package 'prettyunits' successfully unpacked and MD5 sums checked\n",
      "package 'bit64' successfully unpacked and MD5 sums checked\n",
      "package 'tidyselect' successfully unpacked and MD5 sums checked\n",
      "package 'progress' successfully unpacked and MD5 sums checked\n",
      "package 'clipr' successfully unpacked and MD5 sums checked\n",
      "package 'hms' successfully unpacked and MD5 sums checked\n",
      "package 'vroom' successfully unpacked and MD5 sums checked\n",
      "package 'tzdb' successfully unpacked and MD5 sums checked\n",
      "package 'readr' successfully unpacked and MD5 sums checked\n",
      "\n",
      "The downloaded binary packages are in\n",
      "\tC:\\Users\\HP\\AppData\\Local\\Temp\\Rtmpg9ohc1\\downloaded_packages\n"
     ]
    }
   ],
   "source": [
    "install.packages(\"ggplot2\")\n",
    "install.packages(\"readr\")"
   ]
  },
  {
   "cell_type": "code",
   "execution_count": 3,
   "id": "0821610d-9827-4889-bd14-669a282d7488",
   "metadata": {},
   "outputs": [],
   "source": [
    "library(ggplot2)\n",
    "library(readr)"
   ]
  },
  {
   "cell_type": "code",
   "execution_count": 19,
   "id": "dce3ec43-0f10-4c38-b8b8-4addb574f6e7",
   "metadata": {},
   "outputs": [
    {
     "name": "stderr",
     "output_type": "stream",
     "text": [
      "\u001b[1mRows: \u001b[22m\u001b[34m6234\u001b[39m \u001b[1mColumns: \u001b[22m\u001b[34m12\u001b[39m\n",
      "\u001b[36m──\u001b[39m \u001b[1mColumn specification\u001b[22m \u001b[36m────────────────────────────────────────────────────────\u001b[39m\n",
      "\u001b[1mDelimiter:\u001b[22m \",\"\n",
      "\u001b[31mchr\u001b[39m (10): type, title, director, cast, country, date_added, rating, duration...\n",
      "\u001b[32mdbl\u001b[39m  (2): show_id, release_year\n",
      "\n",
      "\u001b[36mℹ\u001b[39m Use `spec()` to retrieve the full column specification for this data.\n",
      "\u001b[36mℹ\u001b[39m Specify the column types or set `show_col_types = FALSE` to quiet this message.\n"
     ]
    },
    {
     "data": {
      "text/html": [
       "<style>\n",
       ".list-inline {list-style: none; margin:0; padding: 0}\n",
       ".list-inline>li {display: inline-block}\n",
       ".list-inline>li:not(:last-child)::after {content: \"\\00b7\"; padding: 0 .5ex}\n",
       "</style>\n",
       "<ol class=list-inline><li>'show_id'</li><li>'type'</li><li>'title'</li><li>'director'</li><li>'cast'</li><li>'country'</li><li>'date_added'</li><li>'release_year'</li><li>'rating'</li><li>'duration'</li><li>'listed_in'</li><li>'description'</li></ol>\n"
      ],
      "text/latex": [
       "\\begin{enumerate*}\n",
       "\\item 'show\\_id'\n",
       "\\item 'type'\n",
       "\\item 'title'\n",
       "\\item 'director'\n",
       "\\item 'cast'\n",
       "\\item 'country'\n",
       "\\item 'date\\_added'\n",
       "\\item 'release\\_year'\n",
       "\\item 'rating'\n",
       "\\item 'duration'\n",
       "\\item 'listed\\_in'\n",
       "\\item 'description'\n",
       "\\end{enumerate*}\n"
      ],
      "text/markdown": [
       "1. 'show_id'\n",
       "2. 'type'\n",
       "3. 'title'\n",
       "4. 'director'\n",
       "5. 'cast'\n",
       "6. 'country'\n",
       "7. 'date_added'\n",
       "8. 'release_year'\n",
       "9. 'rating'\n",
       "10. 'duration'\n",
       "11. 'listed_in'\n",
       "12. 'description'\n",
       "\n",
       "\n"
      ],
      "text/plain": [
       " [1] \"show_id\"      \"type\"         \"title\"        \"director\"     \"cast\"        \n",
       " [6] \"country\"      \"date_added\"   \"release_year\" \"rating\"       \"duration\"    \n",
       "[11] \"listed_in\"    \"description\" "
      ]
     },
     "metadata": {},
     "output_type": "display_data"
    }
   ],
   "source": [
    "# Loading the Netflix dataset\n",
    "netflix_data <- read_csv(\"C:/Users/HP/Downloads/netflix_data.csv\")\n",
    "\n",
    "# Viewing the column names\n",
    "colnames(netflix_data)"
   ]
  },
  {
   "cell_type": "code",
   "execution_count": 21,
   "id": "60ef2791-8a52-42ba-968e-17fa95e6d92d",
   "metadata": {},
   "outputs": [
    {
     "data": {
      "text/html": [
       "<style>\n",
       ".dl-inline {width: auto; margin:0; padding: 0}\n",
       ".dl-inline>dt, .dl-inline>dd {float: none; width: auto; display: inline-block}\n",
       ".dl-inline>dt::after {content: \":\\0020\"; padding-right: .5ex}\n",
       ".dl-inline>dt:not(:first-of-type) {padding-left: .5ex}\n",
       "</style><dl class=dl-inline><dt>show_id</dt><dd>0</dd><dt>type</dt><dd>0</dd><dt>title</dt><dd>0</dd><dt>director</dt><dd>1969</dd><dt>cast</dt><dd>570</dd><dt>country</dt><dd>476</dd><dt>date_added</dt><dd>11</dd><dt>release_year</dt><dd>0</dd><dt>rating</dt><dd>10</dd><dt>duration</dt><dd>0</dd><dt>listed_in</dt><dd>0</dd><dt>description</dt><dd>0</dd></dl>\n"
      ],
      "text/latex": [
       "\\begin{description*}\n",
       "\\item[show\\textbackslash{}\\_id] 0\n",
       "\\item[type] 0\n",
       "\\item[title] 0\n",
       "\\item[director] 1969\n",
       "\\item[cast] 570\n",
       "\\item[country] 476\n",
       "\\item[date\\textbackslash{}\\_added] 11\n",
       "\\item[release\\textbackslash{}\\_year] 0\n",
       "\\item[rating] 10\n",
       "\\item[duration] 0\n",
       "\\item[listed\\textbackslash{}\\_in] 0\n",
       "\\item[description] 0\n",
       "\\end{description*}\n"
      ],
      "text/markdown": [
       "show_id\n",
       ":   0type\n",
       ":   0title\n",
       ":   0director\n",
       ":   1969cast\n",
       ":   570country\n",
       ":   476date_added\n",
       ":   11release_year\n",
       ":   0rating\n",
       ":   10duration\n",
       ":   0listed_in\n",
       ":   0description\n",
       ":   0\n",
       "\n"
      ],
      "text/plain": [
       "     show_id         type        title     director         cast      country \n",
       "           0            0            0         1969          570          476 \n",
       "  date_added release_year       rating     duration    listed_in  description \n",
       "          11            0           10            0            0            0 "
      ]
     },
     "metadata": {},
     "output_type": "display_data"
    },
    {
     "data": {
      "text/html": [
       "<style>\n",
       ".dl-inline {width: auto; margin:0; padding: 0}\n",
       ".dl-inline>dt, .dl-inline>dd {float: none; width: auto; display: inline-block}\n",
       ".dl-inline>dt::after {content: \":\\0020\"; padding-right: .5ex}\n",
       ".dl-inline>dt:not(:first-of-type) {padding-left: .5ex}\n",
       "</style><dl class=dl-inline><dt>show_id</dt><dd>0</dd><dt>type</dt><dd>0</dd><dt>title</dt><dd>0</dd><dt>director</dt><dd>0</dd><dt>cast</dt><dd>0</dd><dt>country</dt><dd>0</dd><dt>date_added</dt><dd>0</dd><dt>release_year</dt><dd>0</dd><dt>rating</dt><dd>0</dd><dt>duration</dt><dd>0</dd><dt>listed_in</dt><dd>0</dd><dt>description</dt><dd>0</dd></dl>\n"
      ],
      "text/latex": [
       "\\begin{description*}\n",
       "\\item[show\\textbackslash{}\\_id] 0\n",
       "\\item[type] 0\n",
       "\\item[title] 0\n",
       "\\item[director] 0\n",
       "\\item[cast] 0\n",
       "\\item[country] 0\n",
       "\\item[date\\textbackslash{}\\_added] 0\n",
       "\\item[release\\textbackslash{}\\_year] 0\n",
       "\\item[rating] 0\n",
       "\\item[duration] 0\n",
       "\\item[listed\\textbackslash{}\\_in] 0\n",
       "\\item[description] 0\n",
       "\\end{description*}\n"
      ],
      "text/markdown": [
       "show_id\n",
       ":   0type\n",
       ":   0title\n",
       ":   0director\n",
       ":   0cast\n",
       ":   0country\n",
       ":   0date_added\n",
       ":   0release_year\n",
       ":   0rating\n",
       ":   0duration\n",
       ":   0listed_in\n",
       ":   0description\n",
       ":   0\n",
       "\n"
      ],
      "text/plain": [
       "     show_id         type        title     director         cast      country \n",
       "           0            0            0            0            0            0 \n",
       "  date_added release_year       rating     duration    listed_in  description \n",
       "           0            0            0            0            0            0 "
      ]
     },
     "metadata": {},
     "output_type": "display_data"
    }
   ],
   "source": [
    "# Data Cleaning\n",
    "\n",
    "# Check for missing values\n",
    "colSums(is.na(netflix_data))\n",
    "\n",
    "# Fill NA in 'director' and 'cast' with \"Unknown\"\n",
    "netflix_data$director[is.na(netflix_data$director)] <- \"Unknown\"\n",
    "netflix_data$cast[is.na(netflix_data$cast)] <- \"Unknown\"\n",
    "\n",
    "# Define a mode function that wil be used to fill the missing values in the respective columns just like the python code.\n",
    "get_mode <- function(x) {\n",
    "  ux <- na.omit(unique(x))\n",
    "  ux[which.max(tabulate(match(x, ux)))]\n",
    "}\n",
    "\n",
    "# Fill 'country', 'date_added', and 'rating' with their respective mode\n",
    "cols_mode <- c(\"country\", \"date_added\", \"rating\")\n",
    "\n",
    "for (col in cols_mode) {\n",
    "  mode_value <- get_mode(netflix_data[[col]])\n",
    "  netflix_data[[col]][is.na(netflix_data[[col]])] <- mode_value\n",
    "}\n",
    "\n",
    "# Re-check missing values\n",
    "colSums(is.na(netflix_data))"
   ]
  },
  {
   "cell_type": "code",
   "execution_count": 33,
   "id": "b614ad13-c7ed-439c-9187-b4f1f4c03ecf",
   "metadata": {},
   "outputs": [
    {
     "name": "stderr",
     "output_type": "stream",
     "text": [
      "Warning message:\n",
      "\"package 'dplyr' is in use and will not be installed\"\n",
      "Installing package into 'C:/Users/HP/AppData/Local/R/win-library/4.5'\n",
      "(as 'lib' is unspecified)\n",
      "\n"
     ]
    },
    {
     "name": "stdout",
     "output_type": "stream",
     "text": [
      "package 'viridis' successfully unpacked and MD5 sums checked\n",
      "\n",
      "The downloaded binary packages are in\n",
      "\tC:\\Users\\HP\\AppData\\Local\\Temp\\Rtmpg9ohc1\\downloaded_packages\n"
     ]
    }
   ],
   "source": [
    "install.packages('dplyr')\n",
    "install.packages(\"viridis\")"
   ]
  },
  {
   "cell_type": "code",
   "execution_count": 35,
   "id": "b73819d5-b7e5-4676-8fc0-8e2f3d320d9b",
   "metadata": {},
   "outputs": [
    {
     "name": "stderr",
     "output_type": "stream",
     "text": [
      "Loading required package: viridisLite\n",
      "\n"
     ]
    },
    {
     "data": {
      "image/png": "[encoded data removed]",
      "text/plain": [
       "plot without title"
      ]
     },
     "metadata": {
      "image/png": {
       "height": 420,
       "width": 420
      }
     },
     "output_type": "display_data"
    }
   ],
   "source": [
    "# Plotting ratings distribution.\n",
    "\n",
    "library(viridis)\n",
    "\n",
    "ggplot(rating_counts, aes(x = reorder(rating, -n), y = n, fill = rating)) +\n",
    "  geom_bar(stat = \"identity\", show.legend = FALSE) +\n",
    "  geom_text(aes(label = n), vjust = -0.3, size = 3.5) +\n",
    "  labs(\n",
    "    title = \"Distribution of Content Ratings on Netflix\",\n",
    "    x = \"Rating\", y = \"Count\"\n",
    "  ) +\n",
    "  scale_fill_viridis_d(option = \"plasma\") +\n",
    "  theme_minimal()"
   ]
  },
  {
   "cell_type": "code",
   "execution_count": null,
   "id": "2816e4e6-8761-42ce-b321-824b352b4481",
   "metadata": {},
   "outputs": [],
   "source": []
  }
 ],
 "metadata": {
  "kernelspec": {
   "display_name": "R",
   "language": "R",
   "name": "ir"
  },
  "language_info": {
   "codemirror_mode": "r",
   "file_extension": ".r",
   "mimetype": "text/x-r-source",
   "name": "R",
   "pygments_lexer": "r",
   "version": "4.5.0"
  }
 },
 "nbformat": 4,
 "nbformat_minor": 5
}
